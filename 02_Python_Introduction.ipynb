{
 "cells": [
  {
   "cell_type": "markdown",
   "metadata": {},
   "source": [
    "# **Python Introduction**\n",
    "---\n",
    "---"
   ]
  },
  {
   "cell_type": "markdown",
   "metadata": {},
   "source": [
    "In this notebook we are going to take a (very) brief look at some of the foundational tools we will need from `Python`. We won't be delving into any modules here (that is for next week) but we will start to build the toolspace that we will need to explore all the different elements of data.\n",
    "\n",
    "As a point of note, I am going to try and stick with the syntax style of [PEP8](https://peps.python.org/pep-0008/) so if we have any questions on how something should be done, this will be our reference. "
   ]
  },
  {
   "cell_type": "code",
   "execution_count": 1,
   "metadata": {},
   "outputs": [],
   "source": [
    "# This is a Python block comment. Generally these are above the code that they are a reference for. \n",
    "# They should clearly tell the reader what the code is doing and should be updated as the code\n",
    "# is updated so that they are current. \n",
    "\n",
    "'''\n",
    "This is a doc string. These can (should) be used for functions. \n",
    "They come after the def and use the syntax indicated here. \n",
    "'''\n",
    "\n",
    "# Used to supress the output of this cell.\n",
    "None"
   ]
  },
  {
   "cell_type": "markdown",
   "metadata": {},
   "source": [
    "A good reference for docstring conventions can be found here, [Docstring Info](https://peps.python.org/pep-0257/)."
   ]
  },
  {
   "cell_type": "markdown",
   "metadata": {},
   "source": [
    "Commenting is going to be key for much of the code that we write. It allows for collaboration as well as referencing. Take time with the comments so that they are clear and helpful."
   ]
  },
  {
   "cell_type": "markdown",
   "metadata": {},
   "source": [
    "## **Variables and Data Types in Python**"
   ]
  },
  {
   "cell_type": "markdown",
   "metadata": {},
   "source": [
    "In the study of data, (and working with computers in general) we often need to store information and reference it later. This assignment of information to a name is the declaration of a variable. In `Python` there is no need to establish the variable before it is assigned. Instead all of this will be done in the same command. "
   ]
  },
  {
   "cell_type": "code",
   "execution_count": 2,
   "metadata": {},
   "outputs": [],
   "source": [
    "# Assign the value of 5 to x. \n",
    "x = 5 "
   ]
  },
  {
   "cell_type": "code",
   "execution_count": 4,
   "metadata": {},
   "outputs": [
    {
     "name": "stdout",
     "output_type": "stream",
     "text": [
      "5\n"
     ]
    }
   ],
   "source": [
    "print(x)"
   ]
  },
  {
   "cell_type": "markdown",
   "metadata": {},
   "source": [
    "Now when it is needed, we can access the value 5 with the variable name `x`. "
   ]
  },
  {
   "cell_type": "code",
   "execution_count": 5,
   "metadata": {},
   "outputs": [
    {
     "name": "stdout",
     "output_type": "stream",
     "text": [
      "10\n"
     ]
    }
   ],
   "source": [
    "# Add 10 to the variable x and print the result. \n",
    "print(x + 5)"
   ]
  },
  {
   "cell_type": "markdown",
   "metadata": {},
   "source": [
    "While a single value stored is helpful for understanding, it doesn't fully demonstrate the utility of this way of thinking. Consider the following datum:"
   ]
  },
  {
   "cell_type": "markdown",
   "metadata": {},
   "source": [
    "|Name | Age | Birthday | Years of Service | Height (in)|\n",
    "|---|---|---|---|---|\n",
    "| Dave | 45 | May 15 | 12 | 71.2 |"
   ]
  },
  {
   "cell_type": "markdown",
   "metadata": {},
   "source": [
    "Now while this chart is small, we can picture more data along these lines that we many want to interact with. So being able to store and retrieve the info included in this frame becomes very important. "
   ]
  },
  {
   "cell_type": "code",
   "execution_count": 6,
   "metadata": {},
   "outputs": [
    {
     "name": "stdout",
     "output_type": "stream",
     "text": [
      "['Dave', 45, 'May 15', 12, 71.2]\n"
     ]
    }
   ],
   "source": [
    "# Store the above data in a Python list.\n",
    "employee = [\"Dave\",45,\"May 15\",12, 71.2]\n",
    "print(employee)"
   ]
  },
  {
   "cell_type": "markdown",
   "metadata": {},
   "source": [
    "The data type that we have here is a list. We can check the type of a variable by using, `type(OBJECT)` where the object in question in included were the word `OBJECT` is.  "
   ]
  },
  {
   "cell_type": "code",
   "execution_count": 9,
   "metadata": {},
   "outputs": [
    {
     "name": "stdout",
     "output_type": "stream",
     "text": [
      "<class 'list'>\n"
     ]
    }
   ],
   "source": [
    "print(type(employee))"
   ]
  },
  {
   "cell_type": "markdown",
   "metadata": {},
   "source": [
    "There are many different data types in `Python` that we will use throughout the semester. Each of the types acts a bit different and knowing what we are working with will be vital to managing the data processing and analysis. To that end, keep this type command close at hand throughout the semester. "
   ]
  },
  {
   "cell_type": "markdown",
   "metadata": {},
   "source": [
    "### Checkpoint 1\n",
    "<div class=\"alert alert-success\" role=\"alert\"> \n",
    " <span style=\"color:black\"> \n",
    "    Run the cell below and then check the type for each of the variables that were assigned. "
   ]
  },
  {
   "cell_type": "code",
   "execution_count": 2,
   "metadata": {},
   "outputs": [],
   "source": [
    "a = 4.5\n",
    "b = [\"eat\", \"at\" , \"Mikes\"]\n",
    "c = {\"Name\": \"Matt\", \"Age\" : 32}\n",
    "d = 10\n",
    "e = 5j\n",
    "f = \"water\"\n",
    "k = (10, \"happy\" , 3.2)"
   ]
  },
  {
   "cell_type": "code",
   "execution_count": null,
   "metadata": {},
   "outputs": [],
   "source": []
  },
  {
   "cell_type": "markdown",
   "metadata": {},
   "source": [
    "Note above the different names for the variable assignments. We need to take care that we don't reuse variables inside a notebook or project. If we mix-up variable names it can (most likely will) lead to errors.   \n",
    "\n",
    "As was noted above, each of the types plays a different roll and we will need to take care to make sure we use the correct type for each task. At this point we won't fully explore each of the above, but as we start working more with data, we will begin to note what each of the above is for."
   ]
  },
  {
   "cell_type": "markdown",
   "metadata": {},
   "source": [
    "## **Python Functions**"
   ]
  },
  {
   "cell_type": "markdown",
   "metadata": {},
   "source": [
    "If we think of variables (and their data types) as the way that we collect elements, we can think of functions as the tools we use to interact with them. Functions allow us to store plans and actions and deploy them as needed throughout the process of interacting with the data.   \n",
    "\n",
    "Let's start with a quick look at the syntax of a `Python` function:  "
   ]
  },
  {
   "cell_type": "code",
   "execution_count": 13,
   "metadata": {},
   "outputs": [],
   "source": [
    "def adding_function(var_1, var_2):\n",
    "    '''Add two numbers and return the sum.'''\n",
    "    return var_1 + var_2"
   ]
  },
  {
   "cell_type": "markdown",
   "metadata": {},
   "source": [
    "Note how the indenting is done. `Python` uses this whitespace to determine the hierarchy of a function. We have also included a docstring here to help guide the reader with what the definition is going to do. As our functions grow in complexity we will need to add additional context and structure to our docstrings.  "
   ]
  },
  {
   "cell_type": "markdown",
   "metadata": {},
   "source": [
    "To call and run the function we use the name that we assigned to it here. We will also need to pass it variables for each of the arguments that we assigned."
   ]
  },
  {
   "cell_type": "code",
   "execution_count": 25,
   "metadata": {},
   "outputs": [
    {
     "name": "stdout",
     "output_type": "stream",
     "text": [
      "11\n"
     ]
    }
   ],
   "source": [
    "# Run the function that we assigned above and assign the output the name sum.\n",
    "sum = adding_function(2,9)\n",
    "\n",
    "# Print the sum.\n",
    "print(sum)"
   ]
  },
  {
   "cell_type": "code",
   "execution_count": 24,
   "metadata": {},
   "outputs": [
    {
     "data": {
      "text/plain": [
       "'Add two numbers and return the sum.'"
      ]
     },
     "execution_count": 24,
     "metadata": {},
     "output_type": "execute_result"
    }
   ],
   "source": [
    "# Print the docstring for the function that we assigned above.\n",
    "adding_function.__doc__"
   ]
  },
  {
   "cell_type": "markdown",
   "metadata": {},
   "source": [
    "### Checkpoint 2\n",
    "\n",
    "<div class=\"alert alert-success\" role=\"alert\"> \n",
    " <span style=\"color:black\"> \n",
    "    Define a function that divides two numbers and returns the result. Include a docstring for the function as above. \n"
   ]
  },
  {
   "cell_type": "code",
   "execution_count": null,
   "metadata": {},
   "outputs": [],
   "source": []
  },
  {
   "cell_type": "markdown",
   "metadata": {},
   "source": [
    "### Checkpoint 3\n",
    "<div class=\"alert alert-success\" role=\"alert\"> \n",
    " <span style=\"color:black\"> \n",
    "    Assign the output of the function the name h and check the type.\n",
    " "
   ]
  },
  {
   "cell_type": "code",
   "execution_count": null,
   "metadata": {},
   "outputs": [],
   "source": []
  },
  {
   "cell_type": "markdown",
   "metadata": {},
   "source": [
    "### Checkpoint 4\n",
    "<div class=\"alert alert-success\" role=\"alert\"> \n",
    " <span style=\"color:black\"> \n",
    "    Are there any issues that could arise from our function? Explain\n"
   ]
  },
  {
   "cell_type": "markdown",
   "metadata": {},
   "source": []
  },
  {
   "cell_type": "markdown",
   "metadata": {},
   "source": [
    "## **Loops**"
   ]
  },
  {
   "cell_type": "markdown",
   "metadata": {},
   "source": [
    "The next topic that we are going to introduce is a loop. In `Python` two main loops that we will utilize; the `for` and the `while` loop. Each of these loops have a different use case and throughout the semester we will constantly be exploring how and when to use them but for now we are going to take a look at one example in action. \n",
    "\n",
    "The main idea behind a loop is to run a selection of code until a condition is met. The general structure is to indicate the condition at the start (as well as the loop type) and then include the selection of code to cycle through. Once the condition is met, the code will stop being processed. \n",
    "\n",
    "We do need to take care with loops that the condition can be met. If there is no way to reach the pre-defined stopping rule, the loop will run \"forever\". (We can use the stop icon at the top of the notebook to halt if need be)\n",
    "\n",
    "**The `for` loop** "
   ]
  },
  {
   "cell_type": "code",
   "execution_count": 23,
   "metadata": {},
   "outputs": [
    {
     "name": "stdout",
     "output_type": "stream",
     "text": [
      "item this 1 type is <class 'int'>\n",
      "item this e type is <class 'str'>\n",
      "item this [0] type is <class 'list'>\n"
     ]
    }
   ],
   "source": [
    "# Assign the list that we will use for the loop example. \n",
    "a_list = [1, \"e\", [0]]\n",
    "# A for loop that will iterate over the elements of the list and print them and their type.\n",
    "for i in range(0,n):\n",
    "    # Print the item from the list and the type. \n",
    "    print(f\"item this {item} type is\" , str(type(item)))"
   ]
  },
  {
   "cell_type": "markdown",
   "metadata": {},
   "source": [
    "Note for loops, like definitions, we will need to indent the code for the loop to indicate the hierarchy. The code in the loop will be indented, and once we want to start code beyond the loop we will align with the `for` or further left depending on the structure of the code we are working with.\n",
    "\n",
    "(In addition we used some other interesting code to structure the printout. We will cover this more later when we start structuring printouts, but if you can read over a bit of what is to come with that here: [ Formatted string literals](https://docs.python.org/3.6/reference/lexical_analysis.html#f-strings)."
   ]
  },
  {
   "cell_type": "markdown",
   "metadata": {},
   "source": [
    "### Checkpoint 5\n",
    "<div class=\"alert alert-success\" role=\"alert\"> \n",
    " <span style=\"color:black\"> \n",
    "    Make a for loop that adds the integers from 1 to 10 together.  "
   ]
  },
  {
   "cell_type": "code",
   "execution_count": null,
   "metadata": {},
   "outputs": [],
   "source": []
  },
  {
   "cell_type": "markdown",
   "metadata": {},
   "source": [
    "As was noted above, there is another loop to consider (the `while` loop) and we will do so in the next notebook. "
   ]
  },
  {
   "cell_type": "markdown",
   "metadata": {},
   "source": [
    "As has been noted a few different times in the notebook, this is just a surface glance at the depth and power of python, as we move through the class we will establish more understanding, rules and methods to utilize `Python` as a powerful tool for processing, analyzing and working with data. But for now, we can using this notebook as a way to break the seal. "
   ]
  },
  {
   "cell_type": "markdown",
   "metadata": {},
   "source": [
    "---\n",
    "## **Required Reading**\n",
    "\n",
    "Here are the textbook readings for Lab 2\n",
    "- [Python for Data Analysis (McKinney) - Chapter 3. Data Structures](https://wesmckinney.com/book/python-builtin)\n",
    "- [Python Data Science Handbook (VanderPlas) - Section 2.1 Data Types](https://jakevdp.github.io/PythonDataScienceHandbook/02.01-understanding-data-types.html)"
   ]
  },
  {
   "cell_type": "markdown",
   "metadata": {},
   "source": [
    "## **Reinforce**"
   ]
  },
  {
   "cell_type": "markdown",
   "metadata": {},
   "source": [
    "Make a new notebook that includes:\n",
    "\n",
    "- Main title \"Python Sandbox\".\n",
    "- Assign three variables with three different data types. \n",
    "- Define a function that includes a `for` loop. \n",
    "- Run your function on the variables you assigned.\n",
    "- Create a function that adds the first $n$ integers together. The user should be able to choose the number $n$ and the function should return the value as an integer. \n",
    "\n",
    "Note, we will use the \"sandbox\" for small `Python` practice elements throughout the semester. Make sure to save it!"
   ]
  },
  {
   "cell_type": "code",
   "execution_count": null,
   "metadata": {},
   "outputs": [],
   "source": []
  }
 ],
 "metadata": {
  "kernelspec": {
   "display_name": "Python 3",
   "language": "python",
   "name": "python3"
  },
  "language_info": {
   "codemirror_mode": {
    "name": "ipython",
    "version": 3
   },
   "file_extension": ".py",
   "mimetype": "text/x-python",
   "name": "python",
   "nbconvert_exporter": "python",
   "pygments_lexer": "ipython3",
   "version": "3.8.5"
  }
 },
 "nbformat": 4,
 "nbformat_minor": 4
}
